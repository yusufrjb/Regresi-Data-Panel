{
 "cells": [
  {
   "cell_type": "code",
   "execution_count": null,
   "metadata": {},
   "outputs": [],
   "source": []
  },
  {
   "cell_type": "code",
   "execution_count": 5,
   "metadata": {},
   "outputs": [
    {
     "name": "stdout",
     "output_type": "stream",
     "text": [
      "             Provinsi      IPM  Tahun       PDRB  Realisasi_Investasi  \\\n",
      "0                ACEH  71.9900   2020  166372.32               8241.1   \n",
      "1      SUMATERA UTARA  71.7700   2020  811188.31              18189.5   \n",
      "2      SUMATERA BARAT  72.3800   2020  241894.13               3106.2   \n",
      "3                RIAU  72.7100   2020  727599.47              34117.8   \n",
      "4               JAMBI  71.2900   2020  205081.99               3511.7   \n",
      "..                ...      ...    ...        ...                  ...   \n",
      "147  PAPUA BARAT DAYA  33.3300   2023   36104.47               1708.7   \n",
      "148             PAPUA  15.5625   2023   81737.92               1174.1   \n",
      "149     PAPUA SELATAN  15.5625   2023   31359.66                152.5   \n",
      "150      PAPUA TENGAH  15.5625   2023  150371.08                458.8   \n",
      "151  PAPUA PEGUNUNGAN  15.5625   2023   24433.99                121.8   \n",
      "\n",
      "     Laju_pdrb     tpt  Gini_Ratio  \n",
      "0        -0.37  6.5900      0.3210  \n",
      "1        -1.07  6.9100      0.3150  \n",
      "2        -1.61  6.8800      0.3030  \n",
      "3        -1.13  6.3200      0.3250  \n",
      "4        -0.51  5.1300      0.3180  \n",
      "..         ...     ...         ...  \n",
      "147       1.82  2.6900      0.1850  \n",
      "148       4.20  0.6675      0.0965  \n",
      "149       4.27  0.6675      0.0965  \n",
      "150       5.95  0.6675      0.0965  \n",
      "151       4.78  0.6675      0.0965  \n",
      "\n",
      "[152 rows x 8 columns]\n"
     ]
    }
   ],
   "source": [
    "import pandas as pd\n",
    "\n",
    "# Membaca file Excel\n",
    "file_path = 'Data_Panel/data_panel.xlsx'\n",
    "df = pd.read_excel(file_path)\n",
    "# Menampilkan data\n",
    "print(df)\n"
   ]
  },
  {
   "cell_type": "code",
   "execution_count": 6,
   "metadata": {},
   "outputs": [
    {
     "name": "stdout",
     "output_type": "stream",
     "text": [
      "Chow Test F-statistic: 7.928595930990043\n",
      "Chow Test p-value: 1.1102230246251565e-16\n",
      "Reject H0: Gunakan model Fixed Effects.\n"
     ]
    }
   ],
   "source": [
    "import pandas as pd\n",
    "import numpy as np\n",
    "import statsmodels.api as sm\n",
    "from linearmodels.panel import PanelOLS\n",
    "from scipy.stats import f\n",
    "\n",
    "# Set index untuk panel data: Provinsi dan Tahun\n",
    "df.set_index(['Provinsi', 'Tahun'], inplace=True)\n",
    "\n",
    "# Variabel dependen (Laju_pdrb)\n",
    "y = df['Laju_pdrb']\n",
    "\n",
    "# Variabel independen\n",
    "X = df[['IPM', 'PDRB', 'Realisasi_Investasi', \"tpt\",'Gini_Ratio']]\n",
    "\n",
    "# Tambahkan konstanta (intercept)\n",
    "X = sm.add_constant(X)\n",
    "\n",
    "# 1. Fit Pooled OLS Model (Model tanpa efek tetap)\n",
    "pooled_model = sm.OLS(y, X).fit()\n",
    "RSS_pooled = np.sum(pooled_model.resid**2)\n",
    "\n",
    "# 2. Fit Fixed Effects Model (dengan efek tetap untuk Provinsi)\n",
    "fixed_effects_model = PanelOLS.from_formula('Laju_pdrb ~ IPM + PDRB + Realisasi_Investasi + EntityEffects + tpt + Gini_Ratio', data=df).fit()\n",
    "RSS_fe = np.sum(fixed_effects_model.resids**2)\n",
    "\n",
    "# 3. Chow Test - Hitung Statistik F\n",
    "n = len(df.index.get_level_values('Provinsi').unique())  # Jumlah entitas (provinsi)\n",
    "k = X.shape[1]  \n",
    "T = len(df.index.get_level_values('Tahun').unique())  # Jumlah periode waktu\n",
    "NT = len(df)  # Total jumlah observasi\n",
    "\n",
    "# Hitung F-statistik untuk Chow Test\n",
    "F_stat = ((RSS_pooled - RSS_fe) / (n - k)) / (RSS_fe / (NT - n - k))\n",
    "\n",
    "# Derajat kebebasan untuk Chow Test\n",
    "df1 = n - k  # Derajat kebebasan untuk pembilang\n",
    "df2 = NT - n - k  # Derajat kebebasan untuk penyebut\n",
    "\n",
    "# Hitung p-value untuk F-statistik\n",
    "p_value = 1 - f.cdf(F_stat, df1, df2)\n",
    "\n",
    "# Output F-statistik dan p-value\n",
    "print(f\"Chow Test F-statistic: {F_stat}\")\n",
    "print(f\"Chow Test p-value: {p_value}\")\n",
    "\n",
    "# Kesimpulan\n",
    "if p_value < 0.05:\n",
    "    print(\"Reject H0: Gunakan model Fixed Effects.\")\n",
    "else:\n",
    "    print(\"Fail to reject H0: Gunakan model Pooled OLS.\")\n"
   ]
  },
  {
   "cell_type": "code",
   "execution_count": 7,
   "metadata": {},
   "outputs": [
    {
     "name": "stdout",
     "output_type": "stream",
     "text": [
      "             Provinsi      IPM  Tahun       PDRB  Realisasi_Investasi  \\\n",
      "0                ACEH  71.9900   2020  166372.32               8241.1   \n",
      "1      SUMATERA UTARA  71.7700   2020  811188.31              18189.5   \n",
      "2      SUMATERA BARAT  72.3800   2020  241894.13               3106.2   \n",
      "3                RIAU  72.7100   2020  727599.47              34117.8   \n",
      "4               JAMBI  71.2900   2020  205081.99               3511.7   \n",
      "..                ...      ...    ...        ...                  ...   \n",
      "147  PAPUA BARAT DAYA  33.3300   2023   36104.47               1708.7   \n",
      "148             PAPUA  15.5625   2023   81737.92               1174.1   \n",
      "149     PAPUA SELATAN  15.5625   2023   31359.66                152.5   \n",
      "150      PAPUA TENGAH  15.5625   2023  150371.08                458.8   \n",
      "151  PAPUA PEGUNUNGAN  15.5625   2023   24433.99                121.8   \n",
      "\n",
      "     Laju_pdrb     tpt  Gini_Ratio  \n",
      "0        -0.37  6.5900      0.3210  \n",
      "1        -1.07  6.9100      0.3150  \n",
      "2        -1.61  6.8800      0.3030  \n",
      "3        -1.13  6.3200      0.3250  \n",
      "4        -0.51  5.1300      0.3180  \n",
      "..         ...     ...         ...  \n",
      "147       1.82  2.6900      0.1850  \n",
      "148       4.20  0.6675      0.0965  \n",
      "149       4.27  0.6675      0.0965  \n",
      "150       5.95  0.6675      0.0965  \n",
      "151       4.78  0.6675      0.0965  \n",
      "\n",
      "[152 rows x 8 columns]\n"
     ]
    }
   ],
   "source": [
    "import pandas as pd\n",
    "\n",
    "# Membaca file Excel\n",
    "file_path = 'Data_Panel/data_panel.xlsx'\n",
    "df = pd.read_excel(file_path)\n",
    "# Menampilkan data\n",
    "print(df)\n"
   ]
  },
  {
   "cell_type": "code",
   "execution_count": 8,
   "metadata": {},
   "outputs": [
    {
     "name": "stdout",
     "output_type": "stream",
     "text": [
      "                          PooledOLS Estimation Summary                          \n",
      "================================================================================\n",
      "Dep. Variable:              Laju_pdrb   R-squared:                        0.1793\n",
      "Estimator:                  PooledOLS   R-squared (Between):             -0.0222\n",
      "No. Observations:                 152   R-squared (Within):               0.3414\n",
      "Date:                Thu, Nov 28 2024   R-squared (Overall):              0.1793\n",
      "Time:                        16:56:36   Log-likelihood                   -409.35\n",
      "Cov. Estimator:            Unadjusted                                           \n",
      "                                        F-statistic:                      6.3791\n",
      "Entities:                          38   P-value                           0.0000\n",
      "Avg Obs:                       4.0000   Distribution:                   F(5,146)\n",
      "Min Obs:                       4.0000                                           \n",
      "Max Obs:                       4.0000   F-statistic (robust):             6.3791\n",
      "                                        P-value                           0.0000\n",
      "Time periods:                       4   Distribution:                   F(5,146)\n",
      "Avg Obs:                       38.000                                           \n",
      "Min Obs:                       38.000                                           \n",
      "Max Obs:                       38.000                                           \n",
      "                                                                                \n",
      "                                  Parameter Estimates                                  \n",
      "=======================================================================================\n",
      "                     Parameter  Std. Err.     T-stat    P-value    Lower CI    Upper CI\n",
      "---------------------------------------------------------------------------------------\n",
      "const                   2.9247     1.1061     2.6442     0.0091      0.7387      5.1106\n",
      "IPM                     0.1958     0.0413     4.7360     0.0000      0.1141      0.2775\n",
      "PDRB                 5.058e-07   1.17e-06     0.4323     0.6661  -1.806e-06   2.818e-06\n",
      "Realisasi_Investasi  2.507e-05  4.311e-05     0.5815     0.5618  -6.013e-05      0.0001\n",
      "tpt                    -0.9794     0.2051    -4.7754     0.0000     -1.3847     -0.5740\n",
      "Gini_Ratio             -26.600     8.1905    -3.2476     0.0014     -42.787     -10.413\n",
      "=======================================================================================\n"
     ]
    }
   ],
   "source": [
    "# Convert Tahun to numeric\n",
    "\n",
    "df=df.set_index(['Provinsi', 'Tahun'])\n",
    "from statsmodels.api import add_constant\n",
    "# Variabel dependen (PDRB)\n",
    "Y = df['Laju_pdrb']\n",
    "\n",
    "# Variabel independen\n",
    "X = add_constant(df[['IPM', 'PDRB', 'Realisasi_Investasi', \"tpt\",\"Gini_Ratio\"]])\n",
    "\n",
    "# Pooled OLS\n",
    "model = PooledOLS(Y, X)\n",
    "ce_results = model.fit()\n",
    "\n",
    "# Output hasil\n",
    "print(ce_results)"
   ]
  },
  {
   "cell_type": "code",
   "execution_count": 9,
   "metadata": {},
   "outputs": [
    {
     "name": "stdout",
     "output_type": "stream",
     "text": [
      "                          PanelOLS Estimation Summary                           \n",
      "================================================================================\n",
      "Dep. Variable:              Laju_pdrb   R-squared:                        0.5579\n",
      "Estimator:                   PanelOLS   R-squared (Between):             -13.344\n",
      "No. Observations:                 152   R-squared (Within):               0.5579\n",
      "Date:                Thu, Nov 28 2024   R-squared (Overall):             -5.6388\n",
      "Time:                        16:56:36   Log-likelihood                   -317.49\n",
      "Cov. Estimator:            Unadjusted                                           \n",
      "                                        F-statistic:                      27.507\n",
      "Entities:                          38   P-value                           0.0000\n",
      "Avg Obs:                       4.0000   Distribution:                   F(5,109)\n",
      "Min Obs:                       4.0000                                           \n",
      "Max Obs:                       4.0000   F-statistic (robust):             27.507\n",
      "                                        P-value                           0.0000\n",
      "Time periods:                       4   Distribution:                   F(5,109)\n",
      "Avg Obs:                       38.000                                           \n",
      "Min Obs:                       38.000                                           \n",
      "Max Obs:                       38.000                                           \n",
      "                                                                                \n",
      "                                  Parameter Estimates                                  \n",
      "=======================================================================================\n",
      "                     Parameter  Std. Err.     T-stat    P-value    Lower CI    Upper CI\n",
      "---------------------------------------------------------------------------------------\n",
      "const                   35.394     10.728     3.2992     0.0013      14.131      56.656\n",
      "IPM                     0.1399     0.0786     1.7816     0.0776     -0.0157      0.2956\n",
      "PDRB                 9.034e-06  4.125e-06     2.1901     0.0306   8.585e-07   1.721e-05\n",
      "Realisasi_Investasi -9.193e-05  5.347e-05    -1.7194     0.0884     -0.0002   1.404e-05\n",
      "tpt                    -2.7587     0.4246    -6.4972     0.0000     -3.6002     -1.9171\n",
      "Gini_Ratio             -100.68     29.300    -3.4363     0.0008     -158.75     -42.612\n",
      "=======================================================================================\n",
      "\n",
      "F-test for Poolability: 6.9207\n",
      "P-value: 0.0000\n",
      "Distribution: F(37,109)\n",
      "\n",
      "Included effects: Entity\n"
     ]
    }
   ],
   "source": [
    "# Model Fixed Effects\n",
    "model_fe = PanelOLS(Y, X, entity_effects=True)\n",
    "fe_results = model_fe.fit()\n",
    "# Menampilkan hasil regresi\n",
    "print(fe_results)"
   ]
  },
  {
   "cell_type": "code",
   "execution_count": 10,
   "metadata": {},
   "outputs": [
    {
     "name": "stdout",
     "output_type": "stream",
     "text": [
      "                        RandomEffects Estimation Summary                        \n",
      "================================================================================\n",
      "Dep. Variable:              Laju_pdrb   R-squared:                        0.3622\n",
      "Estimator:              RandomEffects   R-squared (Between):             -0.4199\n",
      "No. Observations:                 152   R-squared (Within):               0.4721\n",
      "Date:                Thu, Nov 28 2024   R-squared (Overall):              0.0745\n",
      "Time:                        16:56:36   Log-likelihood                   -355.32\n",
      "Cov. Estimator:            Unadjusted                                           \n",
      "                                        F-statistic:                      16.584\n",
      "Entities:                          38   P-value                           0.0000\n",
      "Avg Obs:                       4.0000   Distribution:                   F(5,146)\n",
      "Min Obs:                       4.0000                                           \n",
      "Max Obs:                       4.0000   F-statistic (robust):             16.584\n",
      "                                        P-value                           0.0000\n",
      "Time periods:                       4   Distribution:                   F(5,146)\n",
      "Avg Obs:                       38.000                                           \n",
      "Min Obs:                       38.000                                           \n",
      "Max Obs:                       38.000                                           \n",
      "                                                                                \n",
      "                                  Parameter Estimates                                  \n",
      "=======================================================================================\n",
      "                     Parameter  Std. Err.     T-stat    P-value    Lower CI    Upper CI\n",
      "---------------------------------------------------------------------------------------\n",
      "const                   3.6318     1.8340     1.9803     0.0496      0.0072      7.2564\n",
      "IPM                     0.2853     0.0501     5.6913     0.0000      0.1862      0.3843\n",
      "PDRB                 2.338e-06  1.418e-06     1.6489     0.1013  -4.643e-07   5.141e-06\n",
      "Realisasi_Investasi  3.892e-06  4.495e-05     0.0866     0.9311  -8.494e-05   9.272e-05\n",
      "tpt                    -1.8270     0.2399    -7.6150     0.0000     -2.3012     -1.3529\n",
      "Gini_Ratio             -36.460     11.059    -3.2970     0.0012     -58.316     -14.605\n",
      "=======================================================================================\n",
      "                    Model Comparison                    \n",
      "========================================================\n",
      "                         Fixed Effects    Random Effects\n",
      "--------------------------------------------------------\n",
      "Dep. Variable                Laju_pdrb         Laju_pdrb\n",
      "Estimator                     PanelOLS     RandomEffects\n",
      "No. Observations                   152               152\n",
      "Cov. Est.                   Unadjusted        Unadjusted\n",
      "R-squared                       0.5579            0.3622\n",
      "R-Squared (Within)              0.5579            0.4721\n",
      "R-Squared (Between)            -13.344           -0.4199\n",
      "R-Squared (Overall)            -5.6388            0.0745\n",
      "F-statistic                     27.507            16.584\n",
      "P-value (F-stat)                0.0000            0.0000\n",
      "=====================     ============   ===============\n",
      "const                           35.394            3.6318\n",
      "                              (3.2992)          (1.9803)\n",
      "IPM                             0.1399            0.2853\n",
      "                              (1.7816)          (5.6913)\n",
      "PDRB                         9.034e-06         2.338e-06\n",
      "                              (2.1901)          (1.6489)\n",
      "Realisasi_Investasi         -9.193e-05         3.892e-06\n",
      "                             (-1.7194)          (0.0866)\n",
      "tpt                            -2.7587           -1.8270\n",
      "                             (-6.4972)         (-7.6150)\n",
      "Gini_Ratio                     -100.68           -36.460\n",
      "                             (-3.4363)         (-3.2970)\n",
      "======================= ============== =================\n",
      "Effects                         Entity                  \n",
      "--------------------------------------------------------\n",
      "\n",
      "T-stats reported in parentheses\n"
     ]
    }
   ],
   "source": [
    "#Penerapan Model Random Effects\n",
    "# Model Random Effects\n",
    "model_re = RandomEffects(Y, X)\n",
    "re_results = model_re.fit()\n",
    "#Menampilkan hasil regresi\n",
    "print(re_results)\n",
    "#Uji Hausman (Fixed Effects vs Random Effects)\n",
    "from linearmodels.panel import compare\n",
    "#Membandingkan model Fixed Effects dan Random Effects dengan uji Hausman\n",
    "comparison = compare({\"Fixed Effects\": fe_results, \"Random Effects\": \n",
    "re_results})\n",
    "print(comparison)"
   ]
  },
  {
   "cell_type": "markdown",
   "metadata": {},
   "source": [
    "## UJI Hetero"
   ]
  },
  {
   "cell_type": "code",
   "execution_count": 11,
   "metadata": {},
   "outputs": [
    {
     "name": "stdout",
     "output_type": "stream",
     "text": [
      "Breusch-Pagan Test Results: {'LM Statistic': np.float64(6.6034488192981025), 'LM p-value': np.float64(0.25184146964467474), 'F-statistic': np.float64(1.3261711089959962), 'F p-value': np.float64(0.25624713875769656)}\n"
     ]
    }
   ],
   "source": [
    "from statsmodels.stats.diagnostic import het_breuschpagan\n",
    "\n",
    "# Mengambil residual dari model Pooled OLS\n",
    "residuals = fe_results.resids\n",
    "\n",
    "# Melakukan tes Breusch-Pagan\n",
    "bp_test = het_breuschpagan(residuals, X)\n",
    "bp_test_results = {\n",
    "    \"LM Statistic\": bp_test[0],\n",
    "    \"LM p-value\": bp_test[1],\n",
    "    \"F-statistic\": bp_test[2],\n",
    "    \"F p-value\": bp_test[3]\n",
    "}\n",
    "\n",
    "print(\"Breusch-Pagan Test Results:\", bp_test_results)\n"
   ]
  },
  {
   "cell_type": "code",
   "execution_count": 12,
   "metadata": {},
   "outputs": [
    {
     "name": "stdout",
     "output_type": "stream",
     "text": [
      "Variance Inflation Factors (VIF):\n",
      "              Variable        VIF\n",
      "0                const  13.970264\n",
      "1                  IPM   7.056189\n",
      "2                 PDRB   8.176002\n",
      "3  Realisasi_Investasi   8.016679\n",
      "4                  tpt   2.304205\n",
      "5           Gini_Ratio   6.099330\n"
     ]
    }
   ],
   "source": [
    "from statsmodels.stats.outliers_influence import variance_inflation_factor\n",
    "\n",
    "# Menghitung VIF untuk setiap variabel independen\n",
    "vif_data = pd.DataFrame()\n",
    "vif_data[\"Variable\"] = X.columns\n",
    "vif_data[\"VIF\"] = [variance_inflation_factor(X.values, i) for i in range(X.shape[1])]\n",
    "\n",
    "print(\"Variance Inflation Factors (VIF):\")\n",
    "print(vif_data)\n"
   ]
  },
  {
   "cell_type": "code",
   "execution_count": null,
   "metadata": {},
   "outputs": [],
   "source": []
  },
  {
   "cell_type": "code",
   "execution_count": null,
   "metadata": {},
   "outputs": [],
   "source": []
  }
 ],
 "metadata": {
  "kernelspec": {
   "display_name": ".venv",
   "language": "python",
   "name": "python3"
  },
  "language_info": {
   "codemirror_mode": {
    "name": "ipython",
    "version": 3
   },
   "file_extension": ".py",
   "mimetype": "text/x-python",
   "name": "python",
   "nbconvert_exporter": "python",
   "pygments_lexer": "ipython3",
   "version": "3.10.0"
  }
 },
 "nbformat": 4,
 "nbformat_minor": 2
}
